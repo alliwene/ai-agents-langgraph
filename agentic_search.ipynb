{
 "cells": [
  {
   "cell_type": "markdown",
   "metadata": {},
   "source": [
    "## Agentic Search"
   ]
  },
  {
   "cell_type": "code",
   "execution_count": 6,
   "metadata": {},
   "outputs": [],
   "source": [
    "import os\n",
    "from pprint import pprint\n",
    "from dotenv import load_dotenv\n",
    "\n",
    "from tavily import TavilyClient\n",
    "\n",
    "_ = load_dotenv()"
   ]
  },
  {
   "cell_type": "code",
   "execution_count": 4,
   "metadata": {},
   "outputs": [],
   "source": [
    "client = TavilyClient(api_key=os.environ.get(\"TAVILY_API_KEY\"))"
   ]
  },
  {
   "cell_type": "code",
   "execution_count": 7,
   "metadata": {},
   "outputs": [
    {
     "name": "stdout",
     "output_type": "stream",
     "text": [
      "{'answer': 'The new Nvidia Blackwell GPU, specifically the Blackwell B200, is '\n",
      "           'part of the Blackwell platform that aims to power a new era of '\n",
      "           'computing. This GPU architecture enables organizations to build '\n",
      "           'and run real-time generative AI on large language models at '\n",
      "           'significantly lower costs and energy consumption compared to its '\n",
      "           'predecessor. The Blackwell B200 GPU is expected to deliver up to '\n",
      "           '20 petaflops of compute power and substantial performance '\n",
      "           'improvements over previous models.',\n",
      " 'follow_up_questions': None,\n",
      " 'images': None,\n",
      " 'query': \"What is in Nvidia's new Blackwell GPU?\",\n",
      " 'response_time': 5.08,\n",
      " 'results': [{'content': 'Nvidia revealed its upcoming Blackwell B200 GPU at '\n",
      "                         'GTC 2024, which will power the next generation of AI '\n",
      "                         'supercomputers and potentially more than quadruple '\n",
      "                         'the performance of its predecessor. Here ...',\n",
      "              'raw_content': None,\n",
      "              'score': 0.95001,\n",
      "              'title': \"Nvidia's next-gen AI GPU is 4X faster than Hopper: \"\n",
      "                       'Blackwell B200 GPU ...',\n",
      "              'url': 'https://www.tomshardware.com/pc-components/gpus/nvidias-next-gen-ai-gpu-revealed-blackwell-b200-gpu-delivers-up-to-20-petaflops-of-compute-and-massive-improvements-over-hopper-h100'},\n",
      "             {'content': 'But perhaps Nvidia is about to extend its lead — '\n",
      "                         'with the new Blackwell B200 GPU and GB200 '\n",
      "                         '\"superchip.\". Nvidia CEO Jensen Huang holds up his '\n",
      "                         'new GPU on the left, next to an H100 on the ...',\n",
      "              'raw_content': None,\n",
      "              'score': 0.93276,\n",
      "              'title': \"Nvidia reveals Blackwell B200 GPU, the 'world's most \"\n",
      "                       '... - The Verge',\n",
      "              'url': 'https://www.theverge.com/2024/3/18/24105157/nvidia-blackwell-gpu-b200-ai'},\n",
      "             {'content': 'GTC— Powering a new era of computing, NVIDIA today '\n",
      "                         'announced that the NVIDIA Blackwell platform has '\n",
      "                         'arrived — enabling organizations everywhere to build '\n",
      "                         'and run real-time generative AI on '\n",
      "                         'trillion-parameter large language models at up to '\n",
      "                         '25x less cost and energy consumption than its '\n",
      "                         'predecessor. The Blackwell GPU architecture features '\n",
      "                         'six ...',\n",
      "              'raw_content': None,\n",
      "              'score': 0.92534,\n",
      "              'title': 'NVIDIA Blackwell Platform Arrives to Power a New Era '\n",
      "                       'of Computing',\n",
      "              'url': 'https://nvidianews.nvidia.com/news/nvidia-blackwell-platform-arrives-to-power-a-new-era-of-computing'},\n",
      "             {'content': 'The new Nvidia Blackwell spec leak comes via regular '\n",
      "                         'X/Twitter-based leaker @kopite7kimi who simply put '\n",
      "                         'forth the following list of Nvidia GPU specs: GB202 '\n",
      "                         '12*8 512-bit GDDR7. GB203 7*6 256-bit ...',\n",
      "              'raw_content': None,\n",
      "              'score': 0.92226,\n",
      "              'title': \"Nvidia's new Blackwell GPU specs just leaked, \"\n",
      "                       'including RTX 5090',\n",
      "              'url': 'https://www.pcgamesn.com/nvidia/blackwell-specs-rtx-50'},\n",
      "             {'content': \"Nvidia's Blackwell architecture is on the horizon, \"\n",
      "                         'set to power the RTX 50-series graphics cards. ... '\n",
      "                         \"That's a full decade of new Nvidia GPU architectures \"\n",
      "                         'arriving approximately every two years ...',\n",
      "              'raw_content': None,\n",
      "              'score': 0.92117,\n",
      "              'title': 'Nvidia Blackwell and GeForce RTX 50-Series GPUs: '\n",
      "                       'Rumors, specifications ...',\n",
      "              'url': 'https://www.tomshardware.com/pc-components/gpus/nvidia-blackwell-rtx-50-series-gpus-everything-we-know'}]}\n"
     ]
    }
   ],
   "source": [
    "result = client.search(\"What is in Nvidia's new Blackwell GPU?\", include_answer=True)\n",
    "\n",
    "pprint(result)"
   ]
  },
  {
   "cell_type": "code",
   "execution_count": 8,
   "metadata": {},
   "outputs": [
    {
     "name": "stdout",
     "output_type": "stream",
     "text": [
      "('The new Nvidia Blackwell GPU, specifically the Blackwell B200, is part of '\n",
      " 'the Blackwell platform that aims to power a new era of computing. This GPU '\n",
      " 'architecture enables organizations to build and run real-time generative AI '\n",
      " 'on large language models at significantly lower costs and energy consumption '\n",
      " 'compared to its predecessor. The Blackwell B200 GPU is expected to deliver '\n",
      " 'up to 20 petaflops of compute power and substantial performance improvements '\n",
      " 'over previous models.')\n"
     ]
    }
   ],
   "source": [
    "pprint(result[\"answer\"])"
   ]
  },
  {
   "cell_type": "code",
   "execution_count": null,
   "metadata": {},
   "outputs": [],
   "source": []
  },
  {
   "cell_type": "code",
   "execution_count": null,
   "metadata": {},
   "outputs": [],
   "source": []
  },
  {
   "cell_type": "code",
   "execution_count": null,
   "metadata": {},
   "outputs": [],
   "source": []
  }
 ],
 "metadata": {
  "kernelspec": {
   "display_name": "rag",
   "language": "python",
   "name": "python3"
  },
  "language_info": {
   "codemirror_mode": {
    "name": "ipython",
    "version": 3
   },
   "file_extension": ".py",
   "mimetype": "text/x-python",
   "name": "python",
   "nbconvert_exporter": "python",
   "pygments_lexer": "ipython3",
   "version": "3.11.9"
  }
 },
 "nbformat": 4,
 "nbformat_minor": 2
}
