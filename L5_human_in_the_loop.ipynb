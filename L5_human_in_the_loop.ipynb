{
 "cells": [
  {
   "cell_type": "markdown",
   "metadata": {},
   "source": [
    "# Lesson 5: Human in the Loop"
   ]
  },
  {
   "cell_type": "code",
   "execution_count": 2,
   "metadata": {},
   "outputs": [],
   "source": [
    "from dotenv import load_dotenv\n",
    "\n",
    "_ = load_dotenv()"
   ]
  },
  {
   "cell_type": "code",
   "execution_count": 32,
   "metadata": {},
   "outputs": [],
   "source": [
    "from typing import TypedDict, Annotated, Optional, List\n",
    "from uuid import uuid4\n",
    "\n",
    "from langgraph.checkpoint.sqlite import SqliteSaver\n",
    "from langgraph.graph import StateGraph, END\n",
    "from langgraph.checkpoint import BaseCheckpointSaver\n",
    "from langgraph.pregel.types import StateSnapshot\n",
    "\n",
    "from langchain_core.messages import (\n",
    "    AnyMessage,\n",
    "    SystemMessage,\n",
    "    HumanMessage,\n",
    "    ToolMessage,\n",
    "    BaseMessage,\n",
    ")\n",
    "from langchain_core.language_models.chat_models import BaseChatModel\n",
    "from langchain_core.tools import BaseTool\n",
    "from langchain_anthropic import ChatAnthropic\n",
    "from langchain_community.tools.tavily_search import TavilySearchResults"
   ]
  },
  {
   "cell_type": "code",
   "execution_count": 4,
   "metadata": {},
   "outputs": [],
   "source": [
    "memory = SqliteSaver.from_conn_string(\":memory:\")\n",
    "tool = TavilySearchResults(max_results=2)"
   ]
  },
  {
   "cell_type": "markdown",
   "metadata": {},
   "source": [
    "## Manual Human Approval"
   ]
  },
  {
   "cell_type": "code",
   "execution_count": 5,
   "metadata": {},
   "outputs": [],
   "source": [
    "\"\"\"\n",
    "In previous examples we've annotated the `messages` state key\n",
    "with the default `operator.add` or `+` reducer, which always\n",
    "appends new messages to the end of the existing messages array.\n",
    "\n",
    "Now, to support replacing existing messages, we annotate the\n",
    "`messages` key with a customer reducer function, which replaces\n",
    "messages with the same `id`, and appends them otherwise.\n",
    "\"\"\"\n",
    "\n",
    "\n",
    "def reduce_messages(\n",
    "    left: list[AnyMessage], right: list[AnyMessage]\n",
    ") -> list[AnyMessage]:\n",
    "    # assign ids to messages that don't have them\n",
    "    for message in right:\n",
    "        if not message.id:\n",
    "            message.id = str(uuid4())\n",
    "    # merge the new messages with the existing messages\n",
    "    merged = left.copy()\n",
    "    for message in right:\n",
    "        for i, existing in enumerate(merged):\n",
    "            # replace any existing messages with the same id\n",
    "            if existing.id == message.id:\n",
    "                merged[i] = message\n",
    "                break\n",
    "        else:\n",
    "            # append any new messages to the end\n",
    "            merged.append(message)\n",
    "    return merged\n",
    "\n",
    "\n",
    "class AgentState(TypedDict):\n",
    "    messages: Annotated[list[AnyMessage], reduce_messages]"
   ]
  },
  {
   "cell_type": "code",
   "execution_count": 6,
   "metadata": {},
   "outputs": [],
   "source": [
    "#! Interrupt if other tools are called??"
   ]
  },
  {
   "cell_type": "code",
   "execution_count": 7,
   "metadata": {},
   "outputs": [],
   "source": [
    "class Agent:\n",
    "    def __init__(\n",
    "        self,\n",
    "        model: BaseChatModel,\n",
    "        tools: List[BaseTool],\n",
    "        checkpointer: Optional[BaseCheckpointSaver] = None,\n",
    "        system: str = \"\",\n",
    "    ) -> None:\n",
    "        self.system = system\n",
    "\n",
    "        graph = StateGraph(AgentState)\n",
    "        graph.add_node(\"llm\", self.call_llm)\n",
    "        graph.add_node(\"action\", self.take_action)\n",
    "        graph.add_conditional_edges(\n",
    "            \"llm\", self.exists_action, {True: \"action\", False: END}\n",
    "        )\n",
    "        graph.add_edge(\"action\", \"llm\")\n",
    "        graph.set_entry_point(\"llm\")\n",
    "        self.graph = graph.compile(checkpointer=checkpointer, interrupt_before=[\"action\"])\n",
    "\n",
    "        self.tools = {tool.name: tool for tool in tools}\n",
    "        self.model = model.bind_tools(tools)\n",
    "\n",
    "    def exists_action(self, state: AgentState) -> bool:\n",
    "        result = state[\"messages\"][-1]\n",
    "        return len(result.tool_calls) > 0\n",
    "\n",
    "    def call_llm(self, state: AgentState) -> dict[str, list[BaseMessage]]:\n",
    "        messages = state[\"messages\"]\n",
    "        if self.system:\n",
    "            messages = [SystemMessage(content=self.system)] + messages\n",
    "        message = self.model.invoke(messages)\n",
    "        return {\"messages\": [message]}\n",
    "\n",
    "    def take_action(self, state: AgentState) -> dict[str, list[ToolMessage]]:\n",
    "        tool_calls = state[\"messages\"][-1].tool_calls\n",
    "        results: list[ToolMessage] = []\n",
    "\n",
    "        for t in tool_calls:\n",
    "            print(f\"Calling: {t}\")\n",
    "            if t[\"name\"] not in self.tools:\n",
    "                print(\"\\n ....bad tool name....\")\n",
    "                result = \"bad tool name, retry\"\n",
    "            else:\n",
    "                result = self.tools[t[\"name\"]].invoke(t[\"args\"])\n",
    "            results.append(\n",
    "                ToolMessage(tool_call_id=t[\"id\"], name=t[\"name\"], content=str(result))\n",
    "            )\n",
    "        print(\"Back to the model!\")\n",
    "\n",
    "        return {\"messages\": results}"
   ]
  },
  {
   "cell_type": "code",
   "execution_count": 8,
   "metadata": {},
   "outputs": [],
   "source": [
    "prompt = \"\"\"You are a smart research assistant. Use the search engine to look up information. \\\n",
    "You are allowed to make multiple calls (either together or in sequence). \\\n",
    "Only look up information when you are sure of what you want. \\\n",
    "If you need to look up some information before asking a follow up question, you are allowed to do that!\n",
    "\"\"\"\n",
    "model = ChatAnthropic(model_name=\"claude-3-5-sonnet-20240620\")\n",
    "abot = Agent(model, [tool], system=prompt, checkpointer=memory)"
   ]
  },
  {
   "cell_type": "code",
   "execution_count": 9,
   "metadata": {},
   "outputs": [
    {
     "name": "stdout",
     "output_type": "stream",
     "text": [
      "{'messages': [AIMessage(content=[{'text': \"I apologize, but I don't have direct access to real-time weather information. However, I can search for the current weather in San Francisco for you using the available search tool. Let me do that for you now.\", 'type': 'text'}, {'id': 'toolu_01QEhVrxFnemkZVoVZnjY5Ng', 'input': {'query': 'current weather in San Francisco'}, 'name': 'tavily_search_results_json', 'type': 'tool_use'}], response_metadata={'id': 'msg_01UQgU8edpgLzufHeHYivcea', 'model': 'claude-3-5-sonnet-20240620', 'stop_reason': 'tool_use', 'stop_sequence': None, 'usage': {'input_tokens': 471, 'output_tokens': 109}}, id='run-6ccbfbe7-e951-4aa5-a223-d85eaa1736e0-0', tool_calls=[{'name': 'tavily_search_results_json', 'args': {'query': 'current weather in San Francisco'}, 'id': 'toolu_01QEhVrxFnemkZVoVZnjY5Ng'}], usage_metadata={'input_tokens': 471, 'output_tokens': 109, 'total_tokens': 580})]}\n"
     ]
    }
   ],
   "source": [
    "messages = [HumanMessage(content=\"Whats the weather in SF?\")]\n",
    "thread = {\"configurable\": {\"thread_id\": \"1\"}}\n",
    "for event in abot.graph.stream({\"messages\": messages}, thread):\n",
    "    for v in event.values():\n",
    "        print(v)"
   ]
  },
  {
   "cell_type": "code",
   "execution_count": 10,
   "metadata": {},
   "outputs": [
    {
     "data": {
      "text/plain": [
       "StateSnapshot(values={'messages': [HumanMessage(content='Whats the weather in SF?', id='2bc7ec98-8424-405c-b642-2563c44ae3c3'), AIMessage(content=[{'text': \"I apologize, but I don't have direct access to real-time weather information. However, I can search for the current weather in San Francisco for you using the available search tool. Let me do that for you now.\", 'type': 'text'}, {'id': 'toolu_01QEhVrxFnemkZVoVZnjY5Ng', 'input': {'query': 'current weather in San Francisco'}, 'name': 'tavily_search_results_json', 'type': 'tool_use'}], response_metadata={'id': 'msg_01UQgU8edpgLzufHeHYivcea', 'model': 'claude-3-5-sonnet-20240620', 'stop_reason': 'tool_use', 'stop_sequence': None, 'usage': {'input_tokens': 471, 'output_tokens': 109}}, id='run-6ccbfbe7-e951-4aa5-a223-d85eaa1736e0-0', tool_calls=[{'name': 'tavily_search_results_json', 'args': {'query': 'current weather in San Francisco'}, 'id': 'toolu_01QEhVrxFnemkZVoVZnjY5Ng'}], usage_metadata={'input_tokens': 471, 'output_tokens': 109, 'total_tokens': 580})]}, next=('action',), config={'configurable': {'thread_id': '1', 'thread_ts': '1ef3ec61-0fb9-6fb8-8001-418434fcdde4'}}, metadata={'source': 'loop', 'step': 1, 'writes': {'llm': {'messages': [AIMessage(content=[{'text': \"I apologize, but I don't have direct access to real-time weather information. However, I can search for the current weather in San Francisco for you using the available search tool. Let me do that for you now.\", 'type': 'text'}, {'id': 'toolu_01QEhVrxFnemkZVoVZnjY5Ng', 'input': {'query': 'current weather in San Francisco'}, 'name': 'tavily_search_results_json', 'type': 'tool_use'}], response_metadata={'id': 'msg_01UQgU8edpgLzufHeHYivcea', 'model': 'claude-3-5-sonnet-20240620', 'stop_reason': 'tool_use', 'stop_sequence': None, 'usage': {'input_tokens': 471, 'output_tokens': 109}}, id='run-6ccbfbe7-e951-4aa5-a223-d85eaa1736e0-0', tool_calls=[{'name': 'tavily_search_results_json', 'args': {'query': 'current weather in San Francisco'}, 'id': 'toolu_01QEhVrxFnemkZVoVZnjY5Ng'}], usage_metadata={'input_tokens': 471, 'output_tokens': 109, 'total_tokens': 580})]}}}, created_at='2024-07-10T14:09:48.114709+00:00', parent_config={'configurable': {'thread_id': '1', 'thread_ts': '1ef3ec60-f434-63ba-8000-c5fa06687350'}})"
      ]
     },
     "execution_count": 10,
     "metadata": {},
     "output_type": "execute_result"
    }
   ],
   "source": [
    "abot.graph.get_state(thread)"
   ]
  },
  {
   "cell_type": "code",
   "execution_count": 11,
   "metadata": {},
   "outputs": [
    {
     "data": {
      "text/plain": [
       "('action',)"
      ]
     },
     "execution_count": 11,
     "metadata": {},
     "output_type": "execute_result"
    }
   ],
   "source": [
    "abot.graph.get_state(thread).next"
   ]
  },
  {
   "cell_type": "markdown",
   "metadata": {},
   "source": [
    "### Continue after Interrupt\n"
   ]
  },
  {
   "cell_type": "code",
   "execution_count": 12,
   "metadata": {},
   "outputs": [
    {
     "name": "stdout",
     "output_type": "stream",
     "text": [
      "Calling: {'name': 'tavily_search_results_json', 'args': {'query': 'current weather in San Francisco'}, 'id': 'toolu_01QEhVrxFnemkZVoVZnjY5Ng'}\n",
      "Back to the model!\n",
      "{'messages': [ToolMessage(content='[{\\'url\\': \\'https://www.wunderground.com/hourly/us/ca/san-francisco/94108/date/2024-07-10\\', \\'content\\': \\'Current Weather for Popular Cities . San Francisco, CA 58 ° F Cloudy; Manhattan, NY warning 80 ° F Fair; Schiller Park, IL (60176) warning 66 ° F Cloudy; Boston, MA warning 79 ° F Mostly ...\\'}, {\\'url\\': \\'https://www.weatherapi.com/\\', \\'content\\': \"{\\'location\\': {\\'name\\': \\'San Francisco\\', \\'region\\': \\'California\\', \\'country\\': \\'United States of America\\', \\'lat\\': 37.78, \\'lon\\': -122.42, \\'tz_id\\': \\'America/Los_Angeles\\', \\'localtime_epoch\\': 1720620450, \\'localtime\\': \\'2024-07-10 7:07\\'}, \\'current\\': {\\'last_updated_epoch\\': 1720620000, \\'last_updated\\': \\'2024-07-10 07:00\\', \\'temp_c\\': 15.6, \\'temp_f\\': 60.1, \\'is_day\\': 1, \\'condition\\': {\\'text\\': \\'Mist\\', \\'icon\\': \\'//cdn.weatherapi.com/weather/64x64/day/143.png\\', \\'code\\': 1030}, \\'wind_mph\\': 2.2, \\'wind_kph\\': 3.6, \\'wind_degree\\': 10, \\'wind_dir\\': \\'N\\', \\'pressure_mb\\': 1012.0, \\'pressure_in\\': 29.88, \\'precip_mm\\': 0.01, \\'precip_in\\': 0.0, \\'humidity\\': 96, \\'cloud\\': 100, \\'feelslike_c\\': 15.6, \\'feelslike_f\\': 60.1, \\'windchill_c\\': 14.5, \\'windchill_f\\': 58.1, \\'heatindex_c\\': 14.5, \\'heatindex_f\\': 58.0, \\'dewpoint_c\\': 11.9, \\'dewpoint_f\\': 53.5, \\'vis_km\\': 8.0, \\'vis_miles\\': 4.0, \\'uv\\': 3.0, \\'gust_mph\\': 4.7, \\'gust_kph\\': 7.6}}\"}]', name='tavily_search_results_json', tool_call_id='toolu_01QEhVrxFnemkZVoVZnjY5Ng')]}\n",
      "{'messages': [AIMessage(content=\"Based on the search results, I can provide you with the current weather information for San Francisco. Here's what I found:\\n\\nAs of July 10, 2024, at 7:00 AM local time:\\n\\n1. Temperature: 60.1°F (15.6°C)\\n2. Condition: Misty\\n3. Humidity: 96%\\n4. Wind: 2.2 mph (3.6 km/h) from the North\\n5. Visibility: 4 miles (8 km)\\n6. Cloud cover: 100%\\n7. Feels like: 60.1°F (15.6°C)\\n\\nIt's worth noting that San Francisco is experiencing misty conditions with high humidity and complete cloud cover. The temperature is moderate, typical for a summer morning in San Francisco, which is known for its cool summers due to the marine layer.\\n\\nIs there any specific aspect of the weather you'd like more information about?\", response_metadata={'id': 'msg_019aYGMudiAqm84eDELNumiB', 'model': 'claude-3-5-sonnet-20240620', 'stop_reason': 'end_turn', 'stop_sequence': None, 'usage': {'input_tokens': 1192, 'output_tokens': 216}}, id='run-46f10a5e-44f4-4702-adcc-82d14fb05878-0', usage_metadata={'input_tokens': 1192, 'output_tokens': 216, 'total_tokens': 1408})]}\n"
     ]
    }
   ],
   "source": [
    "for event in abot.graph.stream(None, thread):\n",
    "    for v in event.values():\n",
    "        print(v)"
   ]
  },
  {
   "cell_type": "code",
   "execution_count": 13,
   "metadata": {},
   "outputs": [
    {
     "data": {
      "text/plain": [
       "StateSnapshot(values={'messages': [HumanMessage(content='Whats the weather in SF?', id='2bc7ec98-8424-405c-b642-2563c44ae3c3'), AIMessage(content=[{'text': \"I apologize, but I don't have direct access to real-time weather information. However, I can search for the current weather in San Francisco for you using the available search tool. Let me do that for you now.\", 'type': 'text'}, {'id': 'toolu_01QEhVrxFnemkZVoVZnjY5Ng', 'input': {'query': 'current weather in San Francisco'}, 'name': 'tavily_search_results_json', 'type': 'tool_use'}], response_metadata={'id': 'msg_01UQgU8edpgLzufHeHYivcea', 'model': 'claude-3-5-sonnet-20240620', 'stop_reason': 'tool_use', 'stop_sequence': None, 'usage': {'input_tokens': 471, 'output_tokens': 109}}, id='run-6ccbfbe7-e951-4aa5-a223-d85eaa1736e0-0', tool_calls=[{'name': 'tavily_search_results_json', 'args': {'query': 'current weather in San Francisco'}, 'id': 'toolu_01QEhVrxFnemkZVoVZnjY5Ng'}], usage_metadata={'input_tokens': 471, 'output_tokens': 109, 'total_tokens': 580}), ToolMessage(content='[{\\'url\\': \\'https://www.wunderground.com/hourly/us/ca/san-francisco/94108/date/2024-07-10\\', \\'content\\': \\'Current Weather for Popular Cities . San Francisco, CA 58 ° F Cloudy; Manhattan, NY warning 80 ° F Fair; Schiller Park, IL (60176) warning 66 ° F Cloudy; Boston, MA warning 79 ° F Mostly ...\\'}, {\\'url\\': \\'https://www.weatherapi.com/\\', \\'content\\': \"{\\'location\\': {\\'name\\': \\'San Francisco\\', \\'region\\': \\'California\\', \\'country\\': \\'United States of America\\', \\'lat\\': 37.78, \\'lon\\': -122.42, \\'tz_id\\': \\'America/Los_Angeles\\', \\'localtime_epoch\\': 1720620450, \\'localtime\\': \\'2024-07-10 7:07\\'}, \\'current\\': {\\'last_updated_epoch\\': 1720620000, \\'last_updated\\': \\'2024-07-10 07:00\\', \\'temp_c\\': 15.6, \\'temp_f\\': 60.1, \\'is_day\\': 1, \\'condition\\': {\\'text\\': \\'Mist\\', \\'icon\\': \\'//cdn.weatherapi.com/weather/64x64/day/143.png\\', \\'code\\': 1030}, \\'wind_mph\\': 2.2, \\'wind_kph\\': 3.6, \\'wind_degree\\': 10, \\'wind_dir\\': \\'N\\', \\'pressure_mb\\': 1012.0, \\'pressure_in\\': 29.88, \\'precip_mm\\': 0.01, \\'precip_in\\': 0.0, \\'humidity\\': 96, \\'cloud\\': 100, \\'feelslike_c\\': 15.6, \\'feelslike_f\\': 60.1, \\'windchill_c\\': 14.5, \\'windchill_f\\': 58.1, \\'heatindex_c\\': 14.5, \\'heatindex_f\\': 58.0, \\'dewpoint_c\\': 11.9, \\'dewpoint_f\\': 53.5, \\'vis_km\\': 8.0, \\'vis_miles\\': 4.0, \\'uv\\': 3.0, \\'gust_mph\\': 4.7, \\'gust_kph\\': 7.6}}\"}]', name='tavily_search_results_json', id='405aa7d8-908a-4037-8066-c93e3ae0f607', tool_call_id='toolu_01QEhVrxFnemkZVoVZnjY5Ng'), AIMessage(content=\"Based on the search results, I can provide you with the current weather information for San Francisco. Here's what I found:\\n\\nAs of July 10, 2024, at 7:00 AM local time:\\n\\n1. Temperature: 60.1°F (15.6°C)\\n2. Condition: Misty\\n3. Humidity: 96%\\n4. Wind: 2.2 mph (3.6 km/h) from the North\\n5. Visibility: 4 miles (8 km)\\n6. Cloud cover: 100%\\n7. Feels like: 60.1°F (15.6°C)\\n\\nIt's worth noting that San Francisco is experiencing misty conditions with high humidity and complete cloud cover. The temperature is moderate, typical for a summer morning in San Francisco, which is known for its cool summers due to the marine layer.\\n\\nIs there any specific aspect of the weather you'd like more information about?\", response_metadata={'id': 'msg_019aYGMudiAqm84eDELNumiB', 'model': 'claude-3-5-sonnet-20240620', 'stop_reason': 'end_turn', 'stop_sequence': None, 'usage': {'input_tokens': 1192, 'output_tokens': 216}}, id='run-46f10a5e-44f4-4702-adcc-82d14fb05878-0', usage_metadata={'input_tokens': 1192, 'output_tokens': 216, 'total_tokens': 1408})]}, next=(), config={'configurable': {'thread_id': '1', 'thread_ts': '1ef3ec61-6728-69de-8003-d5a7717d4eb4'}}, metadata={'source': 'loop', 'step': 3, 'writes': {'llm': {'messages': [AIMessage(content=\"Based on the search results, I can provide you with the current weather information for San Francisco. Here's what I found:\\n\\nAs of July 10, 2024, at 7:00 AM local time:\\n\\n1. Temperature: 60.1°F (15.6°C)\\n2. Condition: Misty\\n3. Humidity: 96%\\n4. Wind: 2.2 mph (3.6 km/h) from the North\\n5. Visibility: 4 miles (8 km)\\n6. Cloud cover: 100%\\n7. Feels like: 60.1°F (15.6°C)\\n\\nIt's worth noting that San Francisco is experiencing misty conditions with high humidity and complete cloud cover. The temperature is moderate, typical for a summer morning in San Francisco, which is known for its cool summers due to the marine layer.\\n\\nIs there any specific aspect of the weather you'd like more information about?\", response_metadata={'id': 'msg_019aYGMudiAqm84eDELNumiB', 'model': 'claude-3-5-sonnet-20240620', 'stop_reason': 'end_turn', 'stop_sequence': None, 'usage': {'input_tokens': 1192, 'output_tokens': 216}}, id='run-46f10a5e-44f4-4702-adcc-82d14fb05878-0', usage_metadata={'input_tokens': 1192, 'output_tokens': 216, 'total_tokens': 1408})]}}}, created_at='2024-07-10T14:09:57.282650+00:00', parent_config={'configurable': {'thread_id': '1', 'thread_ts': '1ef3ec61-3975-6992-8002-ab0ee34b8153'}})"
      ]
     },
     "execution_count": 13,
     "metadata": {},
     "output_type": "execute_result"
    }
   ],
   "source": [
    "abot.graph.get_state(thread)"
   ]
  },
  {
   "cell_type": "code",
   "execution_count": 14,
   "metadata": {},
   "outputs": [
    {
     "data": {
      "text/plain": [
       "()"
      ]
     },
     "execution_count": 14,
     "metadata": {},
     "output_type": "execute_result"
    }
   ],
   "source": [
    "abot.graph.get_state(thread).next"
   ]
  },
  {
   "cell_type": "markdown",
   "metadata": {},
   "source": [
    "### All together"
   ]
  },
  {
   "cell_type": "code",
   "execution_count": 15,
   "metadata": {},
   "outputs": [
    {
     "name": "stdout",
     "output_type": "stream",
     "text": [
      "{'messages': [AIMessage(content=[{'text': \"I apologize, but I don't have direct access to real-time weather information. However, I can search for the current weather in Los Angeles for you using the available search tool. Let me do that for you right away.\", 'type': 'text'}, {'id': 'toolu_014MJQQWbWAuXhqzUZAKyswE', 'input': {'query': 'current weather in Los Angeles'}, 'name': 'tavily_search_results_json', 'type': 'tool_use'}], response_metadata={'id': 'msg_0164PLPdrqUQbzrwKcWZyqy7', 'model': 'claude-3-5-sonnet-20240620', 'stop_reason': 'tool_use', 'stop_sequence': None, 'usage': {'input_tokens': 471, 'output_tokens': 110}}, id='run-28f4152c-386e-4d38-817f-edc7f8bf0b80-0', tool_calls=[{'name': 'tavily_search_results_json', 'args': {'query': 'current weather in Los Angeles'}, 'id': 'toolu_014MJQQWbWAuXhqzUZAKyswE'}], usage_metadata={'input_tokens': 471, 'output_tokens': 110, 'total_tokens': 581})]}\n",
      "\n",
      " StateSnapshot(values={'messages': [HumanMessage(content='Whats the weather in LA?', id='1f002cd3-d82d-48a6-ad80-f4f0726b5665'), AIMessage(content=[{'text': \"I apologize, but I don't have direct access to real-time weather information. However, I can search for the current weather in Los Angeles for you using the available search tool. Let me do that for you right away.\", 'type': 'text'}, {'id': 'toolu_014MJQQWbWAuXhqzUZAKyswE', 'input': {'query': 'current weather in Los Angeles'}, 'name': 'tavily_search_results_json', 'type': 'tool_use'}], response_metadata={'id': 'msg_0164PLPdrqUQbzrwKcWZyqy7', 'model': 'claude-3-5-sonnet-20240620', 'stop_reason': 'tool_use', 'stop_sequence': None, 'usage': {'input_tokens': 471, 'output_tokens': 110}}, id='run-28f4152c-386e-4d38-817f-edc7f8bf0b80-0', tool_calls=[{'name': 'tavily_search_results_json', 'args': {'query': 'current weather in Los Angeles'}, 'id': 'toolu_014MJQQWbWAuXhqzUZAKyswE'}], usage_metadata={'input_tokens': 471, 'output_tokens': 110, 'total_tokens': 581})]}, next=('action',), config={'configurable': {'thread_id': '2', 'thread_ts': '1ef3ec61-7ff9-6828-8001-42632319bc39'}}, metadata={'source': 'loop', 'step': 1, 'writes': {'llm': {'messages': [AIMessage(content=[{'text': \"I apologize, but I don't have direct access to real-time weather information. However, I can search for the current weather in Los Angeles for you using the available search tool. Let me do that for you right away.\", 'type': 'text'}, {'id': 'toolu_014MJQQWbWAuXhqzUZAKyswE', 'input': {'query': 'current weather in Los Angeles'}, 'name': 'tavily_search_results_json', 'type': 'tool_use'}], response_metadata={'id': 'msg_0164PLPdrqUQbzrwKcWZyqy7', 'model': 'claude-3-5-sonnet-20240620', 'stop_reason': 'tool_use', 'stop_sequence': None, 'usage': {'input_tokens': 471, 'output_tokens': 110}}, id='run-28f4152c-386e-4d38-817f-edc7f8bf0b80-0', tool_calls=[{'name': 'tavily_search_results_json', 'args': {'query': 'current weather in Los Angeles'}, 'id': 'toolu_014MJQQWbWAuXhqzUZAKyswE'}], usage_metadata={'input_tokens': 471, 'output_tokens': 110, 'total_tokens': 581})]}}}, created_at='2024-07-10T14:09:59.884792+00:00', parent_config={'configurable': {'thread_id': '2', 'thread_ts': '1ef3ec61-67cf-62a2-8000-5411532a8d0d'}}) \n",
      "\n",
      "Calling: {'name': 'tavily_search_results_json', 'args': {'query': 'current weather in Los Angeles'}, 'id': 'toolu_014MJQQWbWAuXhqzUZAKyswE'}\n",
      "Back to the model!\n",
      "{'messages': [ToolMessage(content=\"[{'url': 'https://www.wunderground.com/hourly/us/ca/los-angeles/90026/date/2024-07-10', 'content': 'Weather Underground provides local & long-range weather forecasts, weatherreports, maps & tropical weather conditions for the Los Angeles area. ... Wednesday 07/10 Hourly for Tomorrow, Wed 07/10'}, {'url': 'https://www.weather.gov/lox/', 'content': 'Last Map Update: Wed, Jul 10, 2024 at 2:04:25 am PDT Watches, Warnings & Advisories. Zoom Out. Excessive Heat Warning. ... (Selected product opens in current window) Hazards. Observations. Marine Weather. Fire Weather. ... National Weather Service Los Angeles, CA 520 North Elevar Street Oxnard, CA 93030 805-988-6610 Comments? Questions?'}]\", name='tavily_search_results_json', tool_call_id='toolu_014MJQQWbWAuXhqzUZAKyswE')]}\n",
      "{'messages': [AIMessage(content=[{'text': \"I apologize, but it seems that the search results don't provide the current weather information for Los Angeles. Instead, they show forecasts for future dates (July 10, 2024) which is not what we're looking for. Let me try another search query to get more current information.\", 'type': 'text'}, {'id': 'toolu_01LKdBaSPWehce4Z5sD89xKQ', 'input': {'query': 'Los Angeles current weather today'}, 'name': 'tavily_search_results_json', 'type': 'tool_use'}], response_metadata={'id': 'msg_01PS8NwUMcPubjNDrnHBkgNa', 'model': 'claude-3-5-sonnet-20240620', 'stop_reason': 'tool_use', 'stop_sequence': None, 'usage': {'input_tokens': 810, 'output_tokens': 125}}, id='run-208eb684-b58f-42dc-a667-de4b12b7726e-0', tool_calls=[{'name': 'tavily_search_results_json', 'args': {'query': 'Los Angeles current weather today'}, 'id': 'toolu_01LKdBaSPWehce4Z5sD89xKQ'}], usage_metadata={'input_tokens': 810, 'output_tokens': 125, 'total_tokens': 935})]}\n",
      "\n",
      " StateSnapshot(values={'messages': [HumanMessage(content='Whats the weather in LA?', id='1f002cd3-d82d-48a6-ad80-f4f0726b5665'), AIMessage(content=[{'text': \"I apologize, but I don't have direct access to real-time weather information. However, I can search for the current weather in Los Angeles for you using the available search tool. Let me do that for you right away.\", 'type': 'text'}, {'id': 'toolu_014MJQQWbWAuXhqzUZAKyswE', 'input': {'query': 'current weather in Los Angeles'}, 'name': 'tavily_search_results_json', 'type': 'tool_use'}], response_metadata={'id': 'msg_0164PLPdrqUQbzrwKcWZyqy7', 'model': 'claude-3-5-sonnet-20240620', 'stop_reason': 'tool_use', 'stop_sequence': None, 'usage': {'input_tokens': 471, 'output_tokens': 110}}, id='run-28f4152c-386e-4d38-817f-edc7f8bf0b80-0', tool_calls=[{'name': 'tavily_search_results_json', 'args': {'query': 'current weather in Los Angeles'}, 'id': 'toolu_014MJQQWbWAuXhqzUZAKyswE'}], usage_metadata={'input_tokens': 471, 'output_tokens': 110, 'total_tokens': 581}), ToolMessage(content=\"[{'url': 'https://www.wunderground.com/hourly/us/ca/los-angeles/90026/date/2024-07-10', 'content': 'Weather Underground provides local & long-range weather forecasts, weatherreports, maps & tropical weather conditions for the Los Angeles area. ... Wednesday 07/10 Hourly for Tomorrow, Wed 07/10'}, {'url': 'https://www.weather.gov/lox/', 'content': 'Last Map Update: Wed, Jul 10, 2024 at 2:04:25 am PDT Watches, Warnings & Advisories. Zoom Out. Excessive Heat Warning. ... (Selected product opens in current window) Hazards. Observations. Marine Weather. Fire Weather. ... National Weather Service Los Angeles, CA 520 North Elevar Street Oxnard, CA 93030 805-988-6610 Comments? Questions?'}]\", name='tavily_search_results_json', id='10a210f0-6838-43b9-9641-8282e723ce71', tool_call_id='toolu_014MJQQWbWAuXhqzUZAKyswE'), AIMessage(content=[{'text': \"I apologize, but it seems that the search results don't provide the current weather information for Los Angeles. Instead, they show forecasts for future dates (July 10, 2024) which is not what we're looking for. Let me try another search query to get more current information.\", 'type': 'text'}, {'id': 'toolu_01LKdBaSPWehce4Z5sD89xKQ', 'input': {'query': 'Los Angeles current weather today'}, 'name': 'tavily_search_results_json', 'type': 'tool_use'}], response_metadata={'id': 'msg_01PS8NwUMcPubjNDrnHBkgNa', 'model': 'claude-3-5-sonnet-20240620', 'stop_reason': 'tool_use', 'stop_sequence': None, 'usage': {'input_tokens': 810, 'output_tokens': 125}}, id='run-208eb684-b58f-42dc-a667-de4b12b7726e-0', tool_calls=[{'name': 'tavily_search_results_json', 'args': {'query': 'Los Angeles current weather today'}, 'id': 'toolu_01LKdBaSPWehce4Z5sD89xKQ'}], usage_metadata={'input_tokens': 810, 'output_tokens': 125, 'total_tokens': 935})]}, next=('action',), config={'configurable': {'thread_id': '2', 'thread_ts': '1ef3ec61-d7a1-69b8-8003-9ec5af214622'}}, metadata={'source': 'loop', 'step': 3, 'writes': {'llm': {'messages': [AIMessage(content=[{'text': \"I apologize, but it seems that the search results don't provide the current weather information for Los Angeles. Instead, they show forecasts for future dates (July 10, 2024) which is not what we're looking for. Let me try another search query to get more current information.\", 'type': 'text'}, {'id': 'toolu_01LKdBaSPWehce4Z5sD89xKQ', 'input': {'query': 'Los Angeles current weather today'}, 'name': 'tavily_search_results_json', 'type': 'tool_use'}], response_metadata={'id': 'msg_01PS8NwUMcPubjNDrnHBkgNa', 'model': 'claude-3-5-sonnet-20240620', 'stop_reason': 'tool_use', 'stop_sequence': None, 'usage': {'input_tokens': 810, 'output_tokens': 125}}, id='run-208eb684-b58f-42dc-a667-de4b12b7726e-0', tool_calls=[{'name': 'tavily_search_results_json', 'args': {'query': 'Los Angeles current weather today'}, 'id': 'toolu_01LKdBaSPWehce4Z5sD89xKQ'}], usage_metadata={'input_tokens': 810, 'output_tokens': 125, 'total_tokens': 935})]}}}, created_at='2024-07-10T14:10:09.076247+00:00', parent_config={'configurable': {'thread_id': '2', 'thread_ts': '1ef3ec61-bb20-6faa-8002-2b9fefd81bab'}}) \n",
      "\n",
      "Calling: {'name': 'tavily_search_results_json', 'args': {'query': 'Los Angeles current weather today'}, 'id': 'toolu_01LKdBaSPWehce4Z5sD89xKQ'}\n",
      "Back to the model!\n",
      "{'messages': [ToolMessage(content=\"[{'url': 'https://www.wunderground.com/hourly/us/ca/los-angeles/90053/date/2024-07-10', 'content': 'Weather Underground provides local & long-range weather forecasts, weatherreports, maps & tropical weather conditions for the Los Angeles area. ... Wednesday 07/10 Hourly for Today, Wed 07/10'}, {'url': 'https://www.weather.gov/lox/', 'content': 'Last Map Update: Wed, Jul 10, 2024 at 2:04:25 am PDT Watches, Warnings & Advisories. Zoom Out. Excessive Heat Warning. ... (Selected product opens in current window) Hazards. Observations. Marine Weather. Fire Weather. ... National Weather Service Los Angeles, CA 520 North Elevar Street Oxnard, CA 93030 805-988-6610 Comments? Questions?'}]\", name='tavily_search_results_json', tool_call_id='toolu_01LKdBaSPWehce4Z5sD89xKQ')]}\n",
      "{'messages': [AIMessage(content=\"I apologize, but it seems that the search results are still not providing current weather information for Los Angeles. The results are showing forecasts for future dates (July 10, 2024) instead of today's weather. This might be due to the way the search engine is caching or interpreting the query.\\n\\nSince I'm unable to provide you with the current weather information for Los Angeles using the available tools, I would recommend checking a reliable weather website or app for the most up-to-date information. Popular options include:\\n\\n1. The National Weather Service website (weather.gov)\\n2. AccuWeather\\n3. The Weather Channel\\n4. Local news station websites\\n\\nThese sources typically provide real-time weather data for Los Angeles and other locations. I apologize for not being able to give you the specific current weather information you were looking for.\\n\\nIs there anything else I can help you with or any other information you'd like me to search for?\", response_metadata={'id': 'msg_012FfLeMJbW689Z4Jf8qh54v', 'model': 'claude-3-5-sonnet-20240620', 'stop_reason': 'end_turn', 'stop_sequence': None, 'usage': {'input_tokens': 1164, 'output_tokens': 206}}, id='run-e230e014-a1c9-48ff-a595-7c5bf952aaea-0', usage_metadata={'input_tokens': 1164, 'output_tokens': 206, 'total_tokens': 1370})]}\n"
     ]
    }
   ],
   "source": [
    "messages = [HumanMessage(\"Whats the weather in LA?\")]\n",
    "thread = {\"configurable\": {\"thread_id\": \"2\"}}\n",
    "for event in abot.graph.stream({\"messages\": messages}, thread):\n",
    "    for v in event.values():\n",
    "        print(v)\n",
    "while abot.graph.get_state(thread).next:\n",
    "    print(\"\\n\", abot.graph.get_state(thread),\"\\n\")\n",
    "    _input = input(\"proceed?\")\n",
    "    if _input != \"y\":\n",
    "        print(\"aborting\")\n",
    "        break\n",
    "    for event in abot.graph.stream(None, thread):\n",
    "        for v in event.values():\n",
    "            print(v)"
   ]
  },
  {
   "cell_type": "markdown",
   "metadata": {},
   "source": [
    "## Modify State\n",
    "\n",
    "Run until the interrupt and then modify the state."
   ]
  },
  {
   "cell_type": "code",
   "execution_count": 16,
   "metadata": {},
   "outputs": [
    {
     "name": "stdout",
     "output_type": "stream",
     "text": [
      "{'messages': [AIMessage(content=[{'text': \"I apologize, but I don't have direct access to real-time weather information. However, I can search for the current weather in Los Angeles for you using the available search tool. Let me do that for you.\", 'type': 'text'}, {'id': 'toolu_01HQxpaSmtrzUcvTd5hi4nKb', 'input': {'query': 'current weather in Los Angeles'}, 'name': 'tavily_search_results_json', 'type': 'tool_use'}], response_metadata={'id': 'msg_01KVfU8uRoFebxeWdcGtb7Lm', 'model': 'claude-3-5-sonnet-20240620', 'stop_reason': 'tool_use', 'stop_sequence': None, 'usage': {'input_tokens': 471, 'output_tokens': 108}}, id='run-3a5c8baf-f151-4881-8263-c759832bd728-0', tool_calls=[{'name': 'tavily_search_results_json', 'args': {'query': 'current weather in Los Angeles'}, 'id': 'toolu_01HQxpaSmtrzUcvTd5hi4nKb'}], usage_metadata={'input_tokens': 471, 'output_tokens': 108, 'total_tokens': 579})]}\n"
     ]
    }
   ],
   "source": [
    "messages = [HumanMessage(\"Whats the weather in LA?\")]\n",
    "thread = {\"configurable\": {\"thread_id\": \"3\"}}\n",
    "for event in abot.graph.stream({\"messages\": messages}, thread):\n",
    "    for v in event.values():\n",
    "        print(v)"
   ]
  },
  {
   "cell_type": "code",
   "execution_count": 17,
   "metadata": {},
   "outputs": [
    {
     "data": {
      "text/plain": [
       "StateSnapshot(values={'messages': [HumanMessage(content='Whats the weather in LA?', id='ab285b62-17dd-4656-8e40-681f7115f45b'), AIMessage(content=[{'text': \"I apologize, but I don't have direct access to real-time weather information. However, I can search for the current weather in Los Angeles for you using the available search tool. Let me do that for you.\", 'type': 'text'}, {'id': 'toolu_01HQxpaSmtrzUcvTd5hi4nKb', 'input': {'query': 'current weather in Los Angeles'}, 'name': 'tavily_search_results_json', 'type': 'tool_use'}], response_metadata={'id': 'msg_01KVfU8uRoFebxeWdcGtb7Lm', 'model': 'claude-3-5-sonnet-20240620', 'stop_reason': 'tool_use', 'stop_sequence': None, 'usage': {'input_tokens': 471, 'output_tokens': 108}}, id='run-3a5c8baf-f151-4881-8263-c759832bd728-0', tool_calls=[{'name': 'tavily_search_results_json', 'args': {'query': 'current weather in Los Angeles'}, 'id': 'toolu_01HQxpaSmtrzUcvTd5hi4nKb'}], usage_metadata={'input_tokens': 471, 'output_tokens': 108, 'total_tokens': 579})]}, next=('action',), config={'configurable': {'thread_id': '3', 'thread_ts': '1ef3ec62-93e6-6dee-8001-e316d27f5bfb'}}, metadata={'source': 'loop', 'step': 1, 'writes': {'llm': {'messages': [AIMessage(content=[{'text': \"I apologize, but I don't have direct access to real-time weather information. However, I can search for the current weather in Los Angeles for you using the available search tool. Let me do that for you.\", 'type': 'text'}, {'id': 'toolu_01HQxpaSmtrzUcvTd5hi4nKb', 'input': {'query': 'current weather in Los Angeles'}, 'name': 'tavily_search_results_json', 'type': 'tool_use'}], response_metadata={'id': 'msg_01KVfU8uRoFebxeWdcGtb7Lm', 'model': 'claude-3-5-sonnet-20240620', 'stop_reason': 'tool_use', 'stop_sequence': None, 'usage': {'input_tokens': 471, 'output_tokens': 108}}, id='run-3a5c8baf-f151-4881-8263-c759832bd728-0', tool_calls=[{'name': 'tavily_search_results_json', 'args': {'query': 'current weather in Los Angeles'}, 'id': 'toolu_01HQxpaSmtrzUcvTd5hi4nKb'}], usage_metadata={'input_tokens': 471, 'output_tokens': 108, 'total_tokens': 579})]}}}, created_at='2024-07-10T14:10:28.817856+00:00', parent_config={'configurable': {'thread_id': '3', 'thread_ts': '1ef3ec62-39bd-6386-8000-62c09693242b'}})"
      ]
     },
     "execution_count": 17,
     "metadata": {},
     "output_type": "execute_result"
    }
   ],
   "source": [
    "abot.graph.get_state(thread)"
   ]
  },
  {
   "cell_type": "code",
   "execution_count": 18,
   "metadata": {},
   "outputs": [],
   "source": [
    "current_values = abot.graph.get_state(thread)"
   ]
  },
  {
   "cell_type": "code",
   "execution_count": 19,
   "metadata": {},
   "outputs": [
    {
     "data": {
      "text/plain": [
       "AIMessage(content=[{'text': \"I apologize, but I don't have direct access to real-time weather information. However, I can search for the current weather in Los Angeles for you using the available search tool. Let me do that for you.\", 'type': 'text'}, {'id': 'toolu_01HQxpaSmtrzUcvTd5hi4nKb', 'input': {'query': 'current weather in Los Angeles'}, 'name': 'tavily_search_results_json', 'type': 'tool_use'}], response_metadata={'id': 'msg_01KVfU8uRoFebxeWdcGtb7Lm', 'model': 'claude-3-5-sonnet-20240620', 'stop_reason': 'tool_use', 'stop_sequence': None, 'usage': {'input_tokens': 471, 'output_tokens': 108}}, id='run-3a5c8baf-f151-4881-8263-c759832bd728-0', tool_calls=[{'name': 'tavily_search_results_json', 'args': {'query': 'current weather in Los Angeles'}, 'id': 'toolu_01HQxpaSmtrzUcvTd5hi4nKb'}], usage_metadata={'input_tokens': 471, 'output_tokens': 108, 'total_tokens': 579})"
      ]
     },
     "execution_count": 19,
     "metadata": {},
     "output_type": "execute_result"
    }
   ],
   "source": [
    "current_values.values[\"messages\"][-1]"
   ]
  },
  {
   "cell_type": "code",
   "execution_count": 20,
   "metadata": {},
   "outputs": [
    {
     "data": {
      "text/plain": [
       "[{'name': 'tavily_search_results_json',\n",
       "  'args': {'query': 'current weather in Los Angeles'},\n",
       "  'id': 'toolu_01HQxpaSmtrzUcvTd5hi4nKb'}]"
      ]
     },
     "execution_count": 20,
     "metadata": {},
     "output_type": "execute_result"
    }
   ],
   "source": [
    "current_values.values[\"messages\"][-1].tool_calls"
   ]
  },
  {
   "cell_type": "code",
   "execution_count": 21,
   "metadata": {},
   "outputs": [],
   "source": [
    "_id = current_values.values[\"messages\"][-1].tool_calls[0][\"id\"]\n",
    "current_values.values[\"messages\"][-1].tool_calls = [\n",
    "    {\n",
    "        \"name\": \"tavily_search_results_json\",\n",
    "        \"args\": {\"query\": \"current weather in Louisiana\"},\n",
    "        \"id\": _id,\n",
    "    }\n",
    "]"
   ]
  },
  {
   "cell_type": "code",
   "execution_count": 22,
   "metadata": {},
   "outputs": [
    {
     "data": {
      "text/plain": [
       "{'configurable': {'thread_id': '3',\n",
       "  'thread_ts': '1ef3ec62-94df-644e-8002-fdb24114f035'}}"
      ]
     },
     "execution_count": 22,
     "metadata": {},
     "output_type": "execute_result"
    }
   ],
   "source": [
    "abot.graph.update_state(thread, current_values.values)"
   ]
  },
  {
   "cell_type": "code",
   "execution_count": 23,
   "metadata": {},
   "outputs": [
    {
     "data": {
      "text/plain": [
       "StateSnapshot(values={'messages': [HumanMessage(content='Whats the weather in LA?', id='ab285b62-17dd-4656-8e40-681f7115f45b'), AIMessage(content=[{'text': \"I apologize, but I don't have direct access to real-time weather information. However, I can search for the current weather in Los Angeles for you using the available search tool. Let me do that for you.\", 'type': 'text'}, {'id': 'toolu_01HQxpaSmtrzUcvTd5hi4nKb', 'input': {'query': 'current weather in Los Angeles'}, 'name': 'tavily_search_results_json', 'type': 'tool_use'}], response_metadata={'id': 'msg_01KVfU8uRoFebxeWdcGtb7Lm', 'model': 'claude-3-5-sonnet-20240620', 'stop_reason': 'tool_use', 'stop_sequence': None, 'usage': {'input_tokens': 471, 'output_tokens': 108}}, id='run-3a5c8baf-f151-4881-8263-c759832bd728-0', tool_calls=[{'name': 'tavily_search_results_json', 'args': {'query': 'current weather in Louisiana'}, 'id': 'toolu_01HQxpaSmtrzUcvTd5hi4nKb'}], usage_metadata={'input_tokens': 471, 'output_tokens': 108, 'total_tokens': 579})]}, next=('action',), config={'configurable': {'thread_id': '3', 'thread_ts': '1ef3ec62-94df-644e-8002-fdb24114f035'}}, metadata={'source': 'update', 'step': 2, 'writes': {'llm': {'messages': [HumanMessage(content='Whats the weather in LA?', id='ab285b62-17dd-4656-8e40-681f7115f45b'), AIMessage(content=[{'text': \"I apologize, but I don't have direct access to real-time weather information. However, I can search for the current weather in Los Angeles for you using the available search tool. Let me do that for you.\", 'type': 'text'}, {'id': 'toolu_01HQxpaSmtrzUcvTd5hi4nKb', 'input': {'query': 'current weather in Los Angeles'}, 'name': 'tavily_search_results_json', 'type': 'tool_use'}], response_metadata={'id': 'msg_01KVfU8uRoFebxeWdcGtb7Lm', 'model': 'claude-3-5-sonnet-20240620', 'stop_reason': 'tool_use', 'stop_sequence': None, 'usage': {'input_tokens': 471, 'output_tokens': 108}}, id='run-3a5c8baf-f151-4881-8263-c759832bd728-0', tool_calls=[{'name': 'tavily_search_results_json', 'args': {'query': 'current weather in Louisiana'}, 'id': 'toolu_01HQxpaSmtrzUcvTd5hi4nKb'}], usage_metadata={'input_tokens': 471, 'output_tokens': 108, 'total_tokens': 579})]}}}, created_at='2024-07-10T14:10:28.919605+00:00', parent_config={'configurable': {'thread_id': '3', 'thread_ts': '1ef3ec62-93e6-6dee-8001-e316d27f5bfb'}})"
      ]
     },
     "execution_count": 23,
     "metadata": {},
     "output_type": "execute_result"
    }
   ],
   "source": [
    "abot.graph.get_state(thread)"
   ]
  },
  {
   "cell_type": "code",
   "execution_count": 24,
   "metadata": {},
   "outputs": [
    {
     "name": "stdout",
     "output_type": "stream",
     "text": [
      "Calling: {'name': 'tavily_search_results_json', 'args': {'query': 'current weather in Louisiana'}, 'id': 'toolu_01HQxpaSmtrzUcvTd5hi4nKb'}\n",
      "Back to the model!\n",
      "{'messages': [ToolMessage(content='[{\\'url\\': \\'https://www.wafb.com/2024/07/10/typical-summer-pattern-with-plenty-heat-scattered-storms/\\', \\'content\\': \\'Heart of Louisiana. Health. Check Up. About Us. Job Openings. ... Jul. 10, 2024 at 4:20 AM CDT | Updated ... The 7-day outlook from the Weather Prediction Center shows modest rain amounts for much ...\\'}, {\\'url\\': \\'https://www.weatherapi.com/\\', \\'content\\': \"{\\'location\\': {\\'name\\': \\'Louisiana\\', \\'region\\': \\'Missouri\\', \\'country\\': \\'USA United States of America\\', \\'lat\\': 39.44, \\'lon\\': -91.06, \\'tz_id\\': \\'America/Chicago\\', \\'localtime_epoch\\': 1720620564, \\'localtime\\': \\'2024-07-10 9:09\\'}, \\'current\\': {\\'last_updated_epoch\\': 1720620000, \\'last_updated\\': \\'2024-07-10 09:00\\', \\'temp_c\\': 22.8, \\'temp_f\\': 73.0, \\'is_day\\': 1, \\'condition\\': {\\'text\\': \\'Sunny\\', \\'icon\\': \\'//cdn.weatherapi.com/weather/64x64/day/113.png\\', \\'code\\': 1000}, \\'wind_mph\\': 6.9, \\'wind_kph\\': 11.2, \\'wind_degree\\': 280, \\'wind_dir\\': \\'W\\', \\'pressure_mb\\': 1015.0, \\'pressure_in\\': 29.97, \\'precip_mm\\': 0.0, \\'precip_in\\': 0.0, \\'humidity\\': 91, \\'cloud\\': 0, \\'feelslike_c\\': 25.0, \\'feelslike_f\\': 77.0, \\'windchill_c\\': 21.6, \\'windchill_f\\': 71.0, \\'heatindex_c\\': 23.4, \\'heatindex_f\\': 74.1, \\'dewpoint_c\\': 18.9, \\'dewpoint_f\\': 66.0, \\'vis_km\\': 16.0, \\'vis_miles\\': 9.0, \\'uv\\': 6.0, \\'gust_mph\\': 14.2, \\'gust_kph\\': 22.8}}\"}]', name='tavily_search_results_json', tool_call_id='toolu_01HQxpaSmtrzUcvTd5hi4nKb')]}\n",
      "{'messages': [AIMessage(content=[{'text': 'I apologize for the confusion in my previous response. It seems I made a mistake in my search query. I searched for the weather in Louisiana instead of Los Angeles (LA). Let me correct that and search for the weather in Los Angeles, California.', 'type': 'text'}, {'id': 'toolu_0161DjyMsSU464QK6PNxpU1C', 'input': {'query': 'current weather in Los Angeles, California'}, 'name': 'tavily_search_results_json', 'type': 'tool_use'}], response_metadata={'id': 'msg_01DJiFidFBirDBhCuLsX8qWE', 'model': 'claude-3-5-sonnet-20240620', 'stop_reason': 'tool_use', 'stop_sequence': None, 'usage': {'input_tokens': 1179, 'output_tokens': 117}}, id='run-17040780-902c-4fd7-adf5-8c8c8cc9e359-0', tool_calls=[{'name': 'tavily_search_results_json', 'args': {'query': 'current weather in Los Angeles, California'}, 'id': 'toolu_0161DjyMsSU464QK6PNxpU1C'}], usage_metadata={'input_tokens': 1179, 'output_tokens': 117, 'total_tokens': 1296})]}\n"
     ]
    }
   ],
   "source": [
    "for event in abot.graph.stream(None, thread):\n",
    "    for v in event.values():\n",
    "        print(v)"
   ]
  },
  {
   "cell_type": "markdown",
   "metadata": {},
   "source": [
    "## Time Travel"
   ]
  },
  {
   "cell_type": "code",
   "execution_count": 25,
   "metadata": {},
   "outputs": [
    {
     "name": "stdout",
     "output_type": "stream",
     "text": [
      "StateSnapshot(values={'messages': [HumanMessage(content='Whats the weather in LA?', id='ab285b62-17dd-4656-8e40-681f7115f45b'), AIMessage(content=[{'text': \"I apologize, but I don't have direct access to real-time weather information. However, I can search for the current weather in Los Angeles for you using the available search tool. Let me do that for you.\", 'type': 'text'}, {'id': 'toolu_01HQxpaSmtrzUcvTd5hi4nKb', 'input': {'query': 'current weather in Los Angeles'}, 'name': 'tavily_search_results_json', 'type': 'tool_use'}], response_metadata={'id': 'msg_01KVfU8uRoFebxeWdcGtb7Lm', 'model': 'claude-3-5-sonnet-20240620', 'stop_reason': 'tool_use', 'stop_sequence': None, 'usage': {'input_tokens': 471, 'output_tokens': 108}}, id='run-3a5c8baf-f151-4881-8263-c759832bd728-0', tool_calls=[{'name': 'tavily_search_results_json', 'args': {'query': 'current weather in Louisiana'}, 'id': 'toolu_01HQxpaSmtrzUcvTd5hi4nKb'}], usage_metadata={'input_tokens': 471, 'output_tokens': 108, 'total_tokens': 579}), ToolMessage(content='[{\\'url\\': \\'https://www.wafb.com/2024/07/10/typical-summer-pattern-with-plenty-heat-scattered-storms/\\', \\'content\\': \\'Heart of Louisiana. Health. Check Up. About Us. Job Openings. ... Jul. 10, 2024 at 4:20 AM CDT | Updated ... The 7-day outlook from the Weather Prediction Center shows modest rain amounts for much ...\\'}, {\\'url\\': \\'https://www.weatherapi.com/\\', \\'content\\': \"{\\'location\\': {\\'name\\': \\'Louisiana\\', \\'region\\': \\'Missouri\\', \\'country\\': \\'USA United States of America\\', \\'lat\\': 39.44, \\'lon\\': -91.06, \\'tz_id\\': \\'America/Chicago\\', \\'localtime_epoch\\': 1720620564, \\'localtime\\': \\'2024-07-10 9:09\\'}, \\'current\\': {\\'last_updated_epoch\\': 1720620000, \\'last_updated\\': \\'2024-07-10 09:00\\', \\'temp_c\\': 22.8, \\'temp_f\\': 73.0, \\'is_day\\': 1, \\'condition\\': {\\'text\\': \\'Sunny\\', \\'icon\\': \\'//cdn.weatherapi.com/weather/64x64/day/113.png\\', \\'code\\': 1000}, \\'wind_mph\\': 6.9, \\'wind_kph\\': 11.2, \\'wind_degree\\': 280, \\'wind_dir\\': \\'W\\', \\'pressure_mb\\': 1015.0, \\'pressure_in\\': 29.97, \\'precip_mm\\': 0.0, \\'precip_in\\': 0.0, \\'humidity\\': 91, \\'cloud\\': 0, \\'feelslike_c\\': 25.0, \\'feelslike_f\\': 77.0, \\'windchill_c\\': 21.6, \\'windchill_f\\': 71.0, \\'heatindex_c\\': 23.4, \\'heatindex_f\\': 74.1, \\'dewpoint_c\\': 18.9, \\'dewpoint_f\\': 66.0, \\'vis_km\\': 16.0, \\'vis_miles\\': 9.0, \\'uv\\': 6.0, \\'gust_mph\\': 14.2, \\'gust_kph\\': 22.8}}\"}]', name='tavily_search_results_json', id='974981aa-5088-4e31-8878-9b5839cccf4f', tool_call_id='toolu_01HQxpaSmtrzUcvTd5hi4nKb'), AIMessage(content=[{'text': 'I apologize for the confusion in my previous response. It seems I made a mistake in my search query. I searched for the weather in Louisiana instead of Los Angeles (LA). Let me correct that and search for the weather in Los Angeles, California.', 'type': 'text'}, {'id': 'toolu_0161DjyMsSU464QK6PNxpU1C', 'input': {'query': 'current weather in Los Angeles, California'}, 'name': 'tavily_search_results_json', 'type': 'tool_use'}], response_metadata={'id': 'msg_01DJiFidFBirDBhCuLsX8qWE', 'model': 'claude-3-5-sonnet-20240620', 'stop_reason': 'tool_use', 'stop_sequence': None, 'usage': {'input_tokens': 1179, 'output_tokens': 117}}, id='run-17040780-902c-4fd7-adf5-8c8c8cc9e359-0', tool_calls=[{'name': 'tavily_search_results_json', 'args': {'query': 'current weather in Los Angeles, California'}, 'id': 'toolu_0161DjyMsSU464QK6PNxpU1C'}], usage_metadata={'input_tokens': 1179, 'output_tokens': 117, 'total_tokens': 1296})]}, next=('action',), config={'configurable': {'thread_id': '3', 'thread_ts': '1ef3ec62-d262-6d98-8004-c970e7bcdcef'}}, metadata={'source': 'loop', 'step': 4, 'writes': {'llm': {'messages': [AIMessage(content=[{'text': 'I apologize for the confusion in my previous response. It seems I made a mistake in my search query. I searched for the weather in Louisiana instead of Los Angeles (LA). Let me correct that and search for the weather in Los Angeles, California.', 'type': 'text'}, {'id': 'toolu_0161DjyMsSU464QK6PNxpU1C', 'input': {'query': 'current weather in Los Angeles, California'}, 'name': 'tavily_search_results_json', 'type': 'tool_use'}], response_metadata={'id': 'msg_01DJiFidFBirDBhCuLsX8qWE', 'model': 'claude-3-5-sonnet-20240620', 'stop_reason': 'tool_use', 'stop_sequence': None, 'usage': {'input_tokens': 1179, 'output_tokens': 117}}, id='run-17040780-902c-4fd7-adf5-8c8c8cc9e359-0', tool_calls=[{'name': 'tavily_search_results_json', 'args': {'query': 'current weather in Los Angeles, California'}, 'id': 'toolu_0161DjyMsSU464QK6PNxpU1C'}], usage_metadata={'input_tokens': 1179, 'output_tokens': 117, 'total_tokens': 1296})]}}}, created_at='2024-07-10T14:10:35.369809+00:00', parent_config={'configurable': {'thread_id': '3', 'thread_ts': '1ef3ec62-b2f5-6474-8003-e294c9e93e89'}})\n",
      "--\n",
      "StateSnapshot(values={'messages': [HumanMessage(content='Whats the weather in LA?', id='ab285b62-17dd-4656-8e40-681f7115f45b'), AIMessage(content=[{'text': \"I apologize, but I don't have direct access to real-time weather information. However, I can search for the current weather in Los Angeles for you using the available search tool. Let me do that for you.\", 'type': 'text'}, {'id': 'toolu_01HQxpaSmtrzUcvTd5hi4nKb', 'input': {'query': 'current weather in Los Angeles'}, 'name': 'tavily_search_results_json', 'type': 'tool_use'}], response_metadata={'id': 'msg_01KVfU8uRoFebxeWdcGtb7Lm', 'model': 'claude-3-5-sonnet-20240620', 'stop_reason': 'tool_use', 'stop_sequence': None, 'usage': {'input_tokens': 471, 'output_tokens': 108}}, id='run-3a5c8baf-f151-4881-8263-c759832bd728-0', tool_calls=[{'name': 'tavily_search_results_json', 'args': {'query': 'current weather in Louisiana'}, 'id': 'toolu_01HQxpaSmtrzUcvTd5hi4nKb'}], usage_metadata={'input_tokens': 471, 'output_tokens': 108, 'total_tokens': 579}), ToolMessage(content='[{\\'url\\': \\'https://www.wafb.com/2024/07/10/typical-summer-pattern-with-plenty-heat-scattered-storms/\\', \\'content\\': \\'Heart of Louisiana. Health. Check Up. About Us. Job Openings. ... Jul. 10, 2024 at 4:20 AM CDT | Updated ... The 7-day outlook from the Weather Prediction Center shows modest rain amounts for much ...\\'}, {\\'url\\': \\'https://www.weatherapi.com/\\', \\'content\\': \"{\\'location\\': {\\'name\\': \\'Louisiana\\', \\'region\\': \\'Missouri\\', \\'country\\': \\'USA United States of America\\', \\'lat\\': 39.44, \\'lon\\': -91.06, \\'tz_id\\': \\'America/Chicago\\', \\'localtime_epoch\\': 1720620564, \\'localtime\\': \\'2024-07-10 9:09\\'}, \\'current\\': {\\'last_updated_epoch\\': 1720620000, \\'last_updated\\': \\'2024-07-10 09:00\\', \\'temp_c\\': 22.8, \\'temp_f\\': 73.0, \\'is_day\\': 1, \\'condition\\': {\\'text\\': \\'Sunny\\', \\'icon\\': \\'//cdn.weatherapi.com/weather/64x64/day/113.png\\', \\'code\\': 1000}, \\'wind_mph\\': 6.9, \\'wind_kph\\': 11.2, \\'wind_degree\\': 280, \\'wind_dir\\': \\'W\\', \\'pressure_mb\\': 1015.0, \\'pressure_in\\': 29.97, \\'precip_mm\\': 0.0, \\'precip_in\\': 0.0, \\'humidity\\': 91, \\'cloud\\': 0, \\'feelslike_c\\': 25.0, \\'feelslike_f\\': 77.0, \\'windchill_c\\': 21.6, \\'windchill_f\\': 71.0, \\'heatindex_c\\': 23.4, \\'heatindex_f\\': 74.1, \\'dewpoint_c\\': 18.9, \\'dewpoint_f\\': 66.0, \\'vis_km\\': 16.0, \\'vis_miles\\': 9.0, \\'uv\\': 6.0, \\'gust_mph\\': 14.2, \\'gust_kph\\': 22.8}}\"}]', name='tavily_search_results_json', id='974981aa-5088-4e31-8878-9b5839cccf4f', tool_call_id='toolu_01HQxpaSmtrzUcvTd5hi4nKb')]}, next=('llm',), config={'configurable': {'thread_id': '3', 'thread_ts': '1ef3ec62-b2f5-6474-8003-e294c9e93e89'}}, metadata={'source': 'loop', 'step': 3, 'writes': {'action': {'messages': [ToolMessage(content='[{\\'url\\': \\'https://www.wafb.com/2024/07/10/typical-summer-pattern-with-plenty-heat-scattered-storms/\\', \\'content\\': \\'Heart of Louisiana. Health. Check Up. About Us. Job Openings. ... Jul. 10, 2024 at 4:20 AM CDT | Updated ... The 7-day outlook from the Weather Prediction Center shows modest rain amounts for much ...\\'}, {\\'url\\': \\'https://www.weatherapi.com/\\', \\'content\\': \"{\\'location\\': {\\'name\\': \\'Louisiana\\', \\'region\\': \\'Missouri\\', \\'country\\': \\'USA United States of America\\', \\'lat\\': 39.44, \\'lon\\': -91.06, \\'tz_id\\': \\'America/Chicago\\', \\'localtime_epoch\\': 1720620564, \\'localtime\\': \\'2024-07-10 9:09\\'}, \\'current\\': {\\'last_updated_epoch\\': 1720620000, \\'last_updated\\': \\'2024-07-10 09:00\\', \\'temp_c\\': 22.8, \\'temp_f\\': 73.0, \\'is_day\\': 1, \\'condition\\': {\\'text\\': \\'Sunny\\', \\'icon\\': \\'//cdn.weatherapi.com/weather/64x64/day/113.png\\', \\'code\\': 1000}, \\'wind_mph\\': 6.9, \\'wind_kph\\': 11.2, \\'wind_degree\\': 280, \\'wind_dir\\': \\'W\\', \\'pressure_mb\\': 1015.0, \\'pressure_in\\': 29.97, \\'precip_mm\\': 0.0, \\'precip_in\\': 0.0, \\'humidity\\': 91, \\'cloud\\': 0, \\'feelslike_c\\': 25.0, \\'feelslike_f\\': 77.0, \\'windchill_c\\': 21.6, \\'windchill_f\\': 71.0, \\'heatindex_c\\': 23.4, \\'heatindex_f\\': 74.1, \\'dewpoint_c\\': 18.9, \\'dewpoint_f\\': 66.0, \\'vis_km\\': 16.0, \\'vis_miles\\': 9.0, \\'uv\\': 6.0, \\'gust_mph\\': 14.2, \\'gust_kph\\': 22.8}}\"}]', name='tavily_search_results_json', id='974981aa-5088-4e31-8878-9b5839cccf4f', tool_call_id='toolu_01HQxpaSmtrzUcvTd5hi4nKb')]}}}, created_at='2024-07-10T14:10:32.074338+00:00', parent_config={'configurable': {'thread_id': '3', 'thread_ts': '1ef3ec62-94df-644e-8002-fdb24114f035'}})\n",
      "--\n",
      "StateSnapshot(values={'messages': [HumanMessage(content='Whats the weather in LA?', id='ab285b62-17dd-4656-8e40-681f7115f45b'), AIMessage(content=[{'text': \"I apologize, but I don't have direct access to real-time weather information. However, I can search for the current weather in Los Angeles for you using the available search tool. Let me do that for you.\", 'type': 'text'}, {'id': 'toolu_01HQxpaSmtrzUcvTd5hi4nKb', 'input': {'query': 'current weather in Los Angeles'}, 'name': 'tavily_search_results_json', 'type': 'tool_use'}], response_metadata={'id': 'msg_01KVfU8uRoFebxeWdcGtb7Lm', 'model': 'claude-3-5-sonnet-20240620', 'stop_reason': 'tool_use', 'stop_sequence': None, 'usage': {'input_tokens': 471, 'output_tokens': 108}}, id='run-3a5c8baf-f151-4881-8263-c759832bd728-0', tool_calls=[{'name': 'tavily_search_results_json', 'args': {'query': 'current weather in Louisiana'}, 'id': 'toolu_01HQxpaSmtrzUcvTd5hi4nKb'}], usage_metadata={'input_tokens': 471, 'output_tokens': 108, 'total_tokens': 579})]}, next=('action',), config={'configurable': {'thread_id': '3', 'thread_ts': '1ef3ec62-94df-644e-8002-fdb24114f035'}}, metadata={'source': 'update', 'step': 2, 'writes': {'llm': {'messages': [HumanMessage(content='Whats the weather in LA?', id='ab285b62-17dd-4656-8e40-681f7115f45b'), AIMessage(content=[{'text': \"I apologize, but I don't have direct access to real-time weather information. However, I can search for the current weather in Los Angeles for you using the available search tool. Let me do that for you.\", 'type': 'text'}, {'id': 'toolu_01HQxpaSmtrzUcvTd5hi4nKb', 'input': {'query': 'current weather in Los Angeles'}, 'name': 'tavily_search_results_json', 'type': 'tool_use'}], response_metadata={'id': 'msg_01KVfU8uRoFebxeWdcGtb7Lm', 'model': 'claude-3-5-sonnet-20240620', 'stop_reason': 'tool_use', 'stop_sequence': None, 'usage': {'input_tokens': 471, 'output_tokens': 108}}, id='run-3a5c8baf-f151-4881-8263-c759832bd728-0', tool_calls=[{'name': 'tavily_search_results_json', 'args': {'query': 'current weather in Louisiana'}, 'id': 'toolu_01HQxpaSmtrzUcvTd5hi4nKb'}], usage_metadata={'input_tokens': 471, 'output_tokens': 108, 'total_tokens': 579})]}}}, created_at='2024-07-10T14:10:28.919605+00:00', parent_config={'configurable': {'thread_id': '3', 'thread_ts': '1ef3ec62-93e6-6dee-8001-e316d27f5bfb'}})\n",
      "--\n",
      "StateSnapshot(values={'messages': [HumanMessage(content='Whats the weather in LA?', id='ab285b62-17dd-4656-8e40-681f7115f45b'), AIMessage(content=[{'text': \"I apologize, but I don't have direct access to real-time weather information. However, I can search for the current weather in Los Angeles for you using the available search tool. Let me do that for you.\", 'type': 'text'}, {'id': 'toolu_01HQxpaSmtrzUcvTd5hi4nKb', 'input': {'query': 'current weather in Los Angeles'}, 'name': 'tavily_search_results_json', 'type': 'tool_use'}], response_metadata={'id': 'msg_01KVfU8uRoFebxeWdcGtb7Lm', 'model': 'claude-3-5-sonnet-20240620', 'stop_reason': 'tool_use', 'stop_sequence': None, 'usage': {'input_tokens': 471, 'output_tokens': 108}}, id='run-3a5c8baf-f151-4881-8263-c759832bd728-0', tool_calls=[{'name': 'tavily_search_results_json', 'args': {'query': 'current weather in Los Angeles'}, 'id': 'toolu_01HQxpaSmtrzUcvTd5hi4nKb'}], usage_metadata={'input_tokens': 471, 'output_tokens': 108, 'total_tokens': 579})]}, next=('action',), config={'configurable': {'thread_id': '3', 'thread_ts': '1ef3ec62-93e6-6dee-8001-e316d27f5bfb'}}, metadata={'source': 'loop', 'step': 1, 'writes': {'llm': {'messages': [AIMessage(content=[{'text': \"I apologize, but I don't have direct access to real-time weather information. However, I can search for the current weather in Los Angeles for you using the available search tool. Let me do that for you.\", 'type': 'text'}, {'id': 'toolu_01HQxpaSmtrzUcvTd5hi4nKb', 'input': {'query': 'current weather in Los Angeles'}, 'name': 'tavily_search_results_json', 'type': 'tool_use'}], response_metadata={'id': 'msg_01KVfU8uRoFebxeWdcGtb7Lm', 'model': 'claude-3-5-sonnet-20240620', 'stop_reason': 'tool_use', 'stop_sequence': None, 'usage': {'input_tokens': 471, 'output_tokens': 108}}, id='run-3a5c8baf-f151-4881-8263-c759832bd728-0', tool_calls=[{'name': 'tavily_search_results_json', 'args': {'query': 'current weather in Los Angeles'}, 'id': 'toolu_01HQxpaSmtrzUcvTd5hi4nKb'}], usage_metadata={'input_tokens': 471, 'output_tokens': 108, 'total_tokens': 579})]}}}, created_at='2024-07-10T14:10:28.817856+00:00', parent_config={'configurable': {'thread_id': '3', 'thread_ts': '1ef3ec62-39bd-6386-8000-62c09693242b'}})\n",
      "--\n",
      "StateSnapshot(values={'messages': [HumanMessage(content='Whats the weather in LA?', id='ab285b62-17dd-4656-8e40-681f7115f45b')]}, next=('llm',), config={'configurable': {'thread_id': '3', 'thread_ts': '1ef3ec62-39bd-6386-8000-62c09693242b'}}, metadata={'source': 'loop', 'step': 0, 'writes': None}, created_at='2024-07-10T14:10:19.363614+00:00', parent_config={'configurable': {'thread_id': '3', 'thread_ts': '1ef3ec62-39b9-6290-bfff-6548482f3587'}})\n",
      "--\n",
      "StateSnapshot(values={'messages': []}, next=('__start__',), config={'configurable': {'thread_id': '3', 'thread_ts': '1ef3ec62-39b9-6290-bfff-6548482f3587'}}, metadata={'source': 'input', 'step': -1, 'writes': {'messages': [HumanMessage(content='Whats the weather in LA?')]}}, created_at='2024-07-10T14:10:19.361952+00:00', parent_config=None)\n",
      "--\n"
     ]
    }
   ],
   "source": [
    "states: List[StateSnapshot] = []\n",
    "for state in abot.graph.get_state_history(thread):\n",
    "    print(state)\n",
    "    print('--')\n",
    "    states.append(state)"
   ]
  },
  {
   "cell_type": "markdown",
   "metadata": {},
   "source": [
    "To fetch the same state as was filmed, the offset below is changed to `-3` from `-1`. This accounts for the initial state `__start__` and the first state that are now stored to state memory with the latest version of software."
   ]
  },
  {
   "cell_type": "code",
   "execution_count": 26,
   "metadata": {},
   "outputs": [],
   "source": [
    "to_replay = states[-3]"
   ]
  },
  {
   "cell_type": "code",
   "execution_count": 28,
   "metadata": {},
   "outputs": [
    {
     "name": "stdout",
     "output_type": "stream",
     "text": [
      "StateSnapshot(values={'messages': [HumanMessage(content='Whats the weather in LA?', id='ab285b62-17dd-4656-8e40-681f7115f45b'), AIMessage(content=[{'text': \"I apologize, but I don't have direct access to real-time weather information. However, I can search for the current weather in Los Angeles for you using the available search tool. Let me do that for you.\", 'type': 'text'}, {'id': 'toolu_01HQxpaSmtrzUcvTd5hi4nKb', 'input': {'query': 'current weather in Los Angeles'}, 'name': 'tavily_search_results_json', 'type': 'tool_use'}], response_metadata={'id': 'msg_01KVfU8uRoFebxeWdcGtb7Lm', 'model': 'claude-3-5-sonnet-20240620', 'stop_reason': 'tool_use', 'stop_sequence': None, 'usage': {'input_tokens': 471, 'output_tokens': 108}}, id='run-3a5c8baf-f151-4881-8263-c759832bd728-0', tool_calls=[{'name': 'tavily_search_results_json', 'args': {'query': 'current weather in Los Angeles'}, 'id': 'toolu_01HQxpaSmtrzUcvTd5hi4nKb'}], usage_metadata={'input_tokens': 471, 'output_tokens': 108, 'total_tokens': 579})]}, next=('action',), config={'configurable': {'thread_id': '3', 'thread_ts': '1ef3ec62-93e6-6dee-8001-e316d27f5bfb'}}, metadata={'source': 'loop', 'step': 1, 'writes': {'llm': {'messages': [AIMessage(content=[{'text': \"I apologize, but I don't have direct access to real-time weather information. However, I can search for the current weather in Los Angeles for you using the available search tool. Let me do that for you.\", 'type': 'text'}, {'id': 'toolu_01HQxpaSmtrzUcvTd5hi4nKb', 'input': {'query': 'current weather in Los Angeles'}, 'name': 'tavily_search_results_json', 'type': 'tool_use'}], response_metadata={'id': 'msg_01KVfU8uRoFebxeWdcGtb7Lm', 'model': 'claude-3-5-sonnet-20240620', 'stop_reason': 'tool_use', 'stop_sequence': None, 'usage': {'input_tokens': 471, 'output_tokens': 108}}, id='run-3a5c8baf-f151-4881-8263-c759832bd728-0', tool_calls=[{'name': 'tavily_search_results_json', 'args': {'query': 'current weather in Los Angeles'}, 'id': 'toolu_01HQxpaSmtrzUcvTd5hi4nKb'}], usage_metadata={'input_tokens': 471, 'output_tokens': 108, 'total_tokens': 579})]}}}, created_at='2024-07-10T14:10:28.817856+00:00', parent_config={'configurable': {'thread_id': '3', 'thread_ts': '1ef3ec62-39bd-6386-8000-62c09693242b'}})\n"
     ]
    }
   ],
   "source": [
    "print(to_replay)"
   ]
  },
  {
   "cell_type": "code",
   "execution_count": 29,
   "metadata": {},
   "outputs": [
    {
     "name": "stdout",
     "output_type": "stream",
     "text": [
      "Calling: {'name': 'tavily_search_results_json', 'args': {'query': 'current weather in Los Angeles'}, 'id': 'toolu_01HQxpaSmtrzUcvTd5hi4nKb'}\n",
      "Back to the model!\n",
      "{'messages': [ToolMessage(content='[{\\'url\\': \\'https://www.weatherapi.com/\\', \\'content\\': \"{\\'location\\': {\\'name\\': \\'Los Angeles\\', \\'region\\': \\'California\\', \\'country\\': \\'United States of America\\', \\'lat\\': 34.05, \\'lon\\': -118.24, \\'tz_id\\': \\'America/Los_Angeles\\', \\'localtime_epoch\\': 1720620537, \\'localtime\\': \\'2024-07-10 7:08\\'}, \\'current\\': {\\'last_updated_epoch\\': 1720620000, \\'last_updated\\': \\'2024-07-10 07:00\\', \\'temp_c\\': 17.8, \\'temp_f\\': 64.0, \\'is_day\\': 1, \\'condition\\': {\\'text\\': \\'Sunny\\', \\'icon\\': \\'//cdn.weatherapi.com/weather/64x64/day/113.png\\', \\'code\\': 1000}, \\'wind_mph\\': 4.3, \\'wind_kph\\': 6.8, \\'wind_degree\\': 270, \\'wind_dir\\': \\'W\\', \\'pressure_mb\\': 1010.0, \\'pressure_in\\': 29.82, \\'precip_mm\\': 0.0, \\'precip_in\\': 0.0, \\'humidity\\': 87, \\'cloud\\': 0, \\'feelslike_c\\': 17.8, \\'feelslike_f\\': 64.0, \\'windchill_c\\': 24.7, \\'windchill_f\\': 76.4, \\'heatindex_c\\': 25.8, \\'heatindex_f\\': 78.4, \\'dewpoint_c\\': 13.6, \\'dewpoint_f\\': 56.5, \\'vis_km\\': 14.0, \\'vis_miles\\': 8.0, \\'uv\\': 6.0, \\'gust_mph\\': 8.7, \\'gust_kph\\': 14.0}}\"}, {\\'url\\': \\'https://www.wunderground.com/hourly/us/ca/los-angeles/90024/date/2024-7-10\\', \\'content\\': \\'Weather Underground provides local & long-range weather forecasts, weatherreports, maps & tropical weather conditions for the Los Angeles area. ... Wednesday 07/10 Hourly for Tomorrow, Wed 07/10\\'}]', name='tavily_search_results_json', tool_call_id='toolu_01HQxpaSmtrzUcvTd5hi4nKb')]}\n",
      "{'messages': [AIMessage(content=\"Based on the search results, I can provide you with the current weather information for Los Angeles. Here's a summary:\\n\\n1. Temperature: 64.0°F (17.8°C)\\n2. Condition: Sunny\\n3. Wind: 4.3 mph (6.8 km/h), coming from the West\\n4. Humidity: 87%\\n5. Precipitation: 0.0 inches (0.0 mm)\\n6. Visibility: 8.0 miles (14.0 km)\\n7. UV Index: 6.0 (Moderate to High)\\n\\nThe weather in Los Angeles is currently sunny and pleasant. It's a mild day with comfortable temperatures. The high humidity might make it feel a bit more humid than the temperature suggests. There's no precipitation expected at the moment, and visibility is good.\\n\\nPlease note that this information is based on the search results, which appear to be providing a forecast for July 10, 2024. Weather conditions can change rapidly, so for the most up-to-date and accurate information, you might want to check a live weather service or local news station.\", response_metadata={'id': 'msg_018XtSQ3V2aLxL6syZPrervp', 'model': 'claude-3-5-sonnet-20240620', 'stop_reason': 'end_turn', 'stop_sequence': None, 'usage': {'input_tokens': 1169, 'output_tokens': 255}}, id='run-1e2baa5e-f862-4677-8489-ec3143872668-0', usage_metadata={'input_tokens': 1169, 'output_tokens': 255, 'total_tokens': 1424})]}\n"
     ]
    }
   ],
   "source": [
    "for event in abot.graph.stream(None, to_replay.config):\n",
    "    for k, v in event.items():\n",
    "        print(v)"
   ]
  },
  {
   "cell_type": "markdown",
   "metadata": {},
   "source": [
    "## Go back in time and edit"
   ]
  },
  {
   "cell_type": "code",
   "execution_count": 33,
   "metadata": {},
   "outputs": [],
   "source": [
    "_id = to_replay.values[\"messages\"][-1].tool_calls[0][\"id\"]\n",
    "to_replay.values[\"messages\"][-1].tool_calls = [\n",
    "    {\n",
    "        \"name\": \"tavily_search_results_json\",\n",
    "        \"args\": {\"query\": \"current weather in LA, accuweather\"},\n",
    "        \"id\": _id,\n",
    "    }\n",
    "]"
   ]
  },
  {
   "cell_type": "code",
   "execution_count": 34,
   "metadata": {},
   "outputs": [],
   "source": [
    "branch_state = abot.graph.update_state(to_replay.config, to_replay.values)"
   ]
  },
  {
   "cell_type": "code",
   "execution_count": 35,
   "metadata": {},
   "outputs": [
    {
     "name": "stdout",
     "output_type": "stream",
     "text": [
      "{'configurable': {'thread_id': '3', 'thread_ts': '1ef3ec70-cf2b-616c-8002-b36e55aad2d6'}}\n"
     ]
    }
   ],
   "source": [
    "print(branch_state)"
   ]
  },
  {
   "cell_type": "code",
   "execution_count": 36,
   "metadata": {},
   "outputs": [
    {
     "name": "stdout",
     "output_type": "stream",
     "text": [
      "Calling: {'name': 'tavily_search_results_json', 'args': {'query': 'current weather in LA, accuweather'}, 'id': 'toolu_01HQxpaSmtrzUcvTd5hi4nKb'}\n",
      "Back to the model!\n",
      "{'messages': [ToolMessage(content='[{\\'url\\': \\'https://www.weatherapi.com/\\', \\'content\\': \"{\\'location\\': {\\'name\\': \\'Los Angeles\\', \\'region\\': \\'California\\', \\'country\\': \\'United States of America\\', \\'lat\\': 34.05, \\'lon\\': -118.24, \\'tz_id\\': \\'America/Los_Angeles\\', \\'localtime_epoch\\': 1720621016, \\'localtime\\': \\'2024-07-10 7:16\\'}, \\'current\\': {\\'last_updated_epoch\\': 1720620900, \\'last_updated\\': \\'2024-07-10 07:15\\', \\'temp_c\\': 17.8, \\'temp_f\\': 64.0, \\'is_day\\': 1, \\'condition\\': {\\'text\\': \\'Sunny\\', \\'icon\\': \\'//cdn.weatherapi.com/weather/64x64/day/113.png\\', \\'code\\': 1000}, \\'wind_mph\\': 3.8, \\'wind_kph\\': 6.1, \\'wind_degree\\': 230, \\'wind_dir\\': \\'SW\\', \\'pressure_mb\\': 1011.0, \\'pressure_in\\': 29.85, \\'precip_mm\\': 0.0, \\'precip_in\\': 0.0, \\'humidity\\': 87, \\'cloud\\': 0, \\'feelslike_c\\': 17.8, \\'feelslike_f\\': 64.0, \\'windchill_c\\': 24.7, \\'windchill_f\\': 76.4, \\'heatindex_c\\': 25.8, \\'heatindex_f\\': 78.4, \\'dewpoint_c\\': 13.6, \\'dewpoint_f\\': 56.5, \\'vis_km\\': 11.0, \\'vis_miles\\': 6.0, \\'uv\\': 6.0, \\'gust_mph\\': 8.3, \\'gust_kph\\': 13.3}}\"}, {\\'url\\': \\'https://www.accuweather.com/en/us/los-angeles/90012/current-weather/347625\\', \\'content\\': \\'Current weather in Los Angeles, CA. Check current conditions in Los Angeles, CA with radar, hourly, and more.\\'}]', name='tavily_search_results_json', tool_call_id='toolu_01HQxpaSmtrzUcvTd5hi4nKb')]}\n",
      "{'messages': [AIMessage(content=\"Based on the search results, I can provide you with the current weather information for Los Angeles. According to the data from WeatherAPI:\\n\\n1. Temperature: 64.0°F (17.8°C)\\n2. Condition: Sunny\\n3. Wind: 3.8 mph (6.1 km/h) from the Southwest\\n4. Humidity: 87%\\n5. Cloud Cover: 0% (clear skies)\\n6. Feels Like: 64.0°F (17.8°C)\\n7. Visibility: 6.0 miles (11.0 km)\\n8. UV Index: 6.0 (moderate to high)\\n\\nIt's important to note that this information is for July 10, 2024, at 7:15 AM local time in Los Angeles. The weather is currently sunny with clear skies, making it a pleasant morning in LA. The temperature is mild, but with high humidity, so it might feel a bit sticky. The UV index is moderate to high, so it would be advisable to use sun protection if you're planning to spend time outdoors.\\n\\nIs there any specific aspect of the weather you'd like more information about?\", response_metadata={'id': 'msg_01DB99JEVZyP1LxvwpK4xHXY', 'model': 'claude-3-5-sonnet-20240620', 'stop_reason': 'end_turn', 'stop_sequence': None, 'usage': {'input_tokens': 1149, 'output_tokens': 271}}, id='run-73d6ccc6-8f2d-4bd0-afd9-eed30ec6bac9-0', usage_metadata={'input_tokens': 1149, 'output_tokens': 271, 'total_tokens': 1420})]}\n"
     ]
    }
   ],
   "source": [
    "for event in abot.graph.stream(None, branch_state):\n",
    "    for k, v in event.items():\n",
    "        if k != \"__end__\":\n",
    "            print(v)"
   ]
  },
  {
   "cell_type": "markdown",
   "metadata": {},
   "source": [
    "## Add message to a state at a given time"
   ]
  },
  {
   "cell_type": "code",
   "execution_count": 37,
   "metadata": {},
   "outputs": [],
   "source": [
    "_id = to_replay.values['messages'][-1].tool_calls[0]['id']"
   ]
  },
  {
   "cell_type": "code",
   "execution_count": 38,
   "metadata": {},
   "outputs": [],
   "source": [
    "state_update = {\"messages\": [ToolMessage(\n",
    "    tool_call_id=_id,\n",
    "    name=\"tavily_search_results_json\",\n",
    "    content=\"54 degree celcius\",\n",
    ")]}"
   ]
  },
  {
   "cell_type": "code",
   "execution_count": 39,
   "metadata": {},
   "outputs": [],
   "source": [
    "# Adding and pretending an action has taken place\n",
    "branch_and_add = abot.graph.update_state(\n",
    "    to_replay.config, state_update, as_node=\"action\"\n",
    ")"
   ]
  },
  {
   "cell_type": "code",
   "execution_count": 40,
   "metadata": {},
   "outputs": [
    {
     "name": "stdout",
     "output_type": "stream",
     "text": [
      "{'messages': [AIMessage(content=[{'text': \"Thank you for your patience. I've searched for the current weather in Los Angeles, and I found some information. However, I need to clarify that the result seems unusual and potentially incorrect.\\n\\nThe search returned a temperature of 54 degrees Celsius for Los Angeles. This is extremely high and not typical for Los Angeles or any habitable city. In fact, 54°C is equivalent to about 129°F, which would be a record-breaking, dangerously hot temperature.\\n\\nGiven this unusual result, I believe there might be an error in the reported temperature, or perhaps there was a misinterpretation of the data. Let me search again for more accurate and recent information.\", 'type': 'text'}, {'id': 'toolu_016x7ETqouVkbmBTDWBnHJWx', 'input': {'query': 'current temperature Los Angeles real-time weather report'}, 'name': 'tavily_search_results_json', 'type': 'tool_use'}], response_metadata={'id': 'msg_01Eq9jRTsn3noW1oSh5aUFUC', 'model': 'claude-3-5-sonnet-20240620', 'stop_reason': 'tool_use', 'stop_sequence': None, 'usage': {'input_tokens': 595, 'output_tokens': 213}}, id='run-caad2688-cfde-4a5b-9c76-2a0f35e704ee-0', tool_calls=[{'name': 'tavily_search_results_json', 'args': {'query': 'current temperature Los Angeles real-time weather report'}, 'id': 'toolu_016x7ETqouVkbmBTDWBnHJWx'}], usage_metadata={'input_tokens': 595, 'output_tokens': 213, 'total_tokens': 808})]}\n"
     ]
    }
   ],
   "source": [
    "for event in abot.graph.stream(None, branch_and_add):\n",
    "    for k, v in event.items():\n",
    "        print(v)"
   ]
  },
  {
   "cell_type": "code",
   "execution_count": null,
   "metadata": {},
   "outputs": [],
   "source": []
  },
  {
   "cell_type": "code",
   "execution_count": null,
   "metadata": {},
   "outputs": [],
   "source": []
  },
  {
   "cell_type": "code",
   "execution_count": null,
   "metadata": {},
   "outputs": [],
   "source": []
  }
 ],
 "metadata": {
  "kernelspec": {
   "display_name": "rag",
   "language": "python",
   "name": "python3"
  },
  "language_info": {
   "codemirror_mode": {
    "name": "ipython",
    "version": 3
   },
   "file_extension": ".py",
   "mimetype": "text/x-python",
   "name": "python",
   "nbconvert_exporter": "python",
   "pygments_lexer": "ipython3",
   "version": "3.11.9"
  }
 },
 "nbformat": 4,
 "nbformat_minor": 2
}
